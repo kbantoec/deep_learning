{
 "cells": [
  {
   "cell_type": "markdown",
   "metadata": {},
   "source": [
    "# Basics of deep learning and neural networks\n",
    "\n",
    "In this notebook, we will become familiar with the fundamental concepts used in deep learning. We will build simple neural networks and generate predictions with them.\n",
    "\n",
    "We will be working with networks in order to predict transactions for a bank.\n",
    "\n",
    "Overview:\n",
    "1. Basics of deep learning and neural networks\n",
    "1. The Rectified Linear Activation Function (ReLU)\n",
    "1. Applying the network to many observations/rows of data\n",
    "1. Deeper networks\n",
    "    1. Calculating the error for one data point\n",
    "    1. Scaling up to multiple data points\n",
    "1. The need for optimization\n",
    "1. Gradient descent"
   ]
  },
  {
   "cell_type": "code",
   "execution_count": 25,
   "metadata": {},
   "outputs": [],
   "source": [
    "import numpy as np\n",
    "from sklearn.metrics import mean_squared_error\n",
    "import matplotlib.pyplot as plt\n",
    "from typing import Dict, List"
   ]
  },
  {
   "cell_type": "markdown",
   "metadata": {},
   "source": [
    "## Section 1. Basics of deep learning and neural networks\n",
    "\n",
    "We will code a **forward propagation** (prediction) for our first neural network.\n",
    "\n",
    "Say that each data point is a customer. The first input is how many accounts they have, and the second input is how many children they have. The model will predict **how many transactions the user makes in the next year**. "
   ]
  },
  {
   "cell_type": "code",
   "execution_count": 2,
   "metadata": {},
   "outputs": [
    {
     "data": {
      "text/plain": [
       "-39"
      ]
     },
     "execution_count": 2,
     "metadata": {},
     "output_type": "execute_result"
    }
   ],
   "source": [
    "# Hard-code input data and weights\n",
    "num_accounts: int = 3\n",
    "num_children: int = 5\n",
    "\n",
    "input_data: np.ndarray = np.array([num_accounts, num_children])\n",
    "    \n",
    "weights: Dict[str, np.ndarray] = {'node_0': np.array([2, 4]), \n",
    "                                  'node_1': np.array([ 4, -5]), \n",
    "                                  'output': np.array([2, 7])}\n",
    "\n",
    "# Calculate the nodes and the output of the neural network\n",
    "node_0_value: np.int32 = (input_data * weights['node_0']).sum()\n",
    "\n",
    "node_1_value: np.int32 = (input_data * weights['node_1']).sum()\n",
    "\n",
    "hidden_layer_outputs: np.ndarray = np.array([node_0_value, node_1_value])\n",
    "\n",
    "output: np.int32 = (hidden_layer_outputs * weights['output']).sum()\n",
    "\n",
    "output"
   ]
  },
  {
   "cell_type": "markdown",
   "metadata": {},
   "source": [
    "It looks like the network generated a prediction of $-39$ transactions. This number does not make sense as we have to add an activation function as in the next section."
   ]
  },
  {
   "cell_type": "markdown",
   "metadata": {},
   "source": [
    "## Section 2. The Rectified Linear Activation Function\n",
    "\n",
    "An \"activation function\" is a function applied at each node. It converts the node's input into some output.\n",
    "\n",
    "The rectified linear activation function (called **ReLU**) has been shown to lead to very high-performance networks. This function takes a single number as an input, returning 0 if the input is negative, and the input if the input is positive."
   ]
  },
  {
   "cell_type": "code",
   "execution_count": 3,
   "metadata": {},
   "outputs": [],
   "source": [
    "def relu(input: np.int32) -> int:\n",
    "    '''ReLU activation function.'''\n",
    "    return max(input, 0)"
   ]
  },
  {
   "cell_type": "code",
   "execution_count": 4,
   "metadata": {},
   "outputs": [
    {
     "data": {
      "text/plain": [
       "52"
      ]
     },
     "execution_count": 4,
     "metadata": {},
     "output_type": "execute_result"
    }
   ],
   "source": [
    "node_0_input: np.int32 = (input_data * weights['node_0']).sum()\n",
    "node_0_output: int = relu(node_0_input)\n",
    "\n",
    "node_1_input: np.int32 = (input_data * weights['node_1']).sum()\n",
    "node_1_output: int = relu(node_1_input)\n",
    "\n",
    "hidden_layer_outputs: np.ndarray = np.array([node_0_output, node_1_output])\n",
    "\n",
    "model_output: np.int32 = (hidden_layer_outputs * weights['output']).sum()\n",
    "\n",
    "model_output"
   ]
  },
  {
   "cell_type": "markdown",
   "metadata": {},
   "source": [
    "We predicted $52$ transactions. Without this activation function, you would have predicted a negative number ($-39$)! The real power of activation functions will come soon when we start tuning model weights.\n",
    "\n",
    "## Section 3. Applying the network to many observations/rows of data\n",
    "\n",
    "You'll now define a function called `predict_with_network()` which will generate predictions for multiple data observations."
   ]
  },
  {
   "cell_type": "code",
   "execution_count": 5,
   "metadata": {},
   "outputs": [],
   "source": [
    "def predict_with_network(input_data_row, weights):\n",
    "\n",
    "    node_0_input = (input_data_row * weights['node_0']).sum()\n",
    "    node_0_output = relu(node_0_input)\n",
    "\n",
    "    node_1_input = (input_data_row * weights['node_1']).sum()\n",
    "    node_1_output = relu(node_1_input)\n",
    "\n",
    "    hidden_layer_outputs: np.ndarray = np.array([node_0_output, node_1_output])\n",
    "\n",
    "    input_to_final_layer = (hidden_layer_outputs * weights['output']).sum()\n",
    "    model_output = relu(input_to_final_layer)\n",
    "\n",
    "    return model_output"
   ]
  },
  {
   "cell_type": "code",
   "execution_count": 6,
   "metadata": {},
   "outputs": [],
   "source": [
    "input_data: List[np.ndarray] = [np.array([3, 5]),\n",
    "                                np.array([ 1, -1]),\n",
    "                                np.array([0, 0]),\n",
    "                                np.array([8, 4])]\n",
    "\n",
    "weights: Dict[str, np.ndarray] = {'node_0': np.array([2, 4]),\n",
    "                                  'node_1': np.array([ 4, -5]),\n",
    "                                  'output': np.array([2, 7])}"
   ]
  },
  {
   "cell_type": "code",
   "execution_count": 7,
   "metadata": {},
   "outputs": [
    {
     "data": {
      "text/plain": [
       "[52, 63, 0, 148]"
      ]
     },
     "execution_count": 7,
     "metadata": {},
     "output_type": "execute_result"
    }
   ],
   "source": [
    "results: List[np.int32] = []\n",
    "for input_data_row in input_data:\n",
    "    results.append(predict_with_network(input_data_row, weights))\n",
    "\n",
    "results"
   ]
  },
  {
   "cell_type": "markdown",
   "metadata": {},
   "source": [
    "Now, we have predicted the number of transactions for 4 observations (i.e. individuals)."
   ]
  },
  {
   "cell_type": "markdown",
   "metadata": {},
   "source": [
    "## Section 4. Deeper networks\n",
    "\n",
    "An important fact about deep networks is that they internally build up representations of the patterns in the data that are useful for making predictions. And they find increasingly complex patterns as we go through successive hidden layers of the network.\n",
    "\n",
    "Deep learning is also sometimes called **representation learning**, because subsequent layers build increasingly sophiscticated representations of the raw data, until we get to a stage where we can make preditions. In other words, the last layers capture the most complex interactions.\n",
    "\n",
    "The cool thing about DL is that we do not need to specify the interactions. Instead, the network gets weights that find the relevant patterns to make better predictions. It is the model training process sets them to optimize predictive accuracy."
   ]
  },
  {
   "cell_type": "code",
   "execution_count": 8,
   "metadata": {},
   "outputs": [],
   "source": [
    "def predict_with_network(input_data: np.ndarray, weights):\n",
    "    \"\"\"Predicts the number of transactions using a deep network.\"\"\"\n",
    "    # Calculate node 0 in the first hidden layer\n",
    "    node_0_0_input = (input_data * weights['node_0_0']).sum()\n",
    "    node_0_0_output = relu(node_0_0_input)\n",
    "\n",
    "    # Calculate node 1 in the first hidden layer\n",
    "    node_0_1_input = (input_data * weights['node_0_1']).sum()\n",
    "    node_0_1_output = relu(node_0_1_input)\n",
    "\n",
    "    # Put node values into a numpy array\n",
    "    hidden_0_outputs: np.ndarray = np.array([node_0_0_output, node_0_1_output])\n",
    "    \n",
    "    # Calculate node 0 in the second hidden layer\n",
    "    node_1_0_input = (hidden_0_outputs * weights['node_1_0']).sum()\n",
    "    node_1_0_output = relu(node_1_0_input)\n",
    "\n",
    "    # Calculate node 1 in the second hidden layer\n",
    "    node_1_1_input = (hidden_0_outputs * weights['node_1_1']).sum()\n",
    "    node_1_1_output = relu(node_1_1_input)\n",
    "\n",
    "    # Put node values into a numpy array\n",
    "    hidden_1_outputs = np.array([node_1_0_output, node_1_1_output])\n",
    "\n",
    "    # Calculate model output\n",
    "    model_output = (hidden_1_outputs * weights['output']).sum()\n",
    "    \n",
    "    return(model_output)"
   ]
  },
  {
   "cell_type": "code",
   "execution_count": 9,
   "metadata": {},
   "outputs": [
    {
     "name": "stdout",
     "output_type": "stream",
     "text": [
      "182\n"
     ]
    }
   ],
   "source": [
    "input_data: np.ndarray = np.array([3, 5])\n",
    "\n",
    "weights: Dict[str, np.ndarray] = {'node_0_0': np.array([2, 4]),\n",
    "                                  'node_0_1': np.array([ 4, -5]),\n",
    "                                  'node_1_0': np.array([-1,  2]),\n",
    "                                  'node_1_1': np.array([1, 2]),\n",
    "                                  'output': np.array([2, 7])}\n",
    "    \n",
    "output = predict_with_network(input_data, weights)\n",
    "print(output)"
   ]
  },
  {
   "cell_type": "markdown",
   "metadata": {},
   "source": [
    "The network generated a prediction of 182 transactions.\n",
    "\n",
    "## Section 5. The need for optimization\n",
    "\n",
    "### Subsection 5.1 Calculating the error for one data point\n",
    "\n",
    "We will now see how we can improve the model accuracy by changing values of weights. For the moment, we won't use an activation function in this example. Or, we can supose that we are using an activation function that returns the input. We call such a function the identity function.\n",
    "\n",
    "Let's say that the **true value of the target** is 3. So, the closer our prediction is to 3, the more accurate the model is for this data point.\n",
    "\n",
    "We will use **forward propagation** to fill in the values of the hidden layer.\n",
    "\n",
    "The **error** can be computes as follows: $$ \\text{Error} = \\text{Predicted target value} - \\text{Actual target value}. $$"
   ]
  },
  {
   "cell_type": "code",
   "execution_count": 10,
   "metadata": {},
   "outputs": [],
   "source": [
    "def predict_with_network(input_data_point: np.ndarray, weights: Dict[str, List[int]]) -> np.float64:\n",
    "    node_0_input = (input_data_point * weights['node_0']).sum()\n",
    "    node_0_output = relu(node_0_input)\n",
    "\n",
    "    node_1_input = (input_data_point * weights['node_1']).sum()\n",
    "    node_1_output = relu(node_1_input)\n",
    "\n",
    "    hidden_layer_values = np.array([node_0_output, node_1_output])\n",
    "    input_to_final_layer = (hidden_layer_values * weights['output']).sum()\n",
    "    model_output = relu(input_to_final_layer)\n",
    "    \n",
    "    return(model_output)"
   ]
  },
  {
   "cell_type": "code",
   "execution_count": 11,
   "metadata": {},
   "outputs": [
    {
     "name": "stdout",
     "output_type": "stream",
     "text": [
      "6\n",
      "0\n"
     ]
    }
   ],
   "source": [
    "input_data: np.ndarray = np.array([0, 3])\n",
    "\n",
    "# Sample weights\n",
    "weights_0: Dict[str, List[int]] = {'node_0': [2, 1],\n",
    "                                   'node_1': [1, 2],\n",
    "                                   'output': [1, 1]}\n",
    "\n",
    "# The actual target value, use to calculate the error\n",
    "target_actual: int = 3\n",
    "\n",
    "# Make prediction using original weights\n",
    "model_output_0: List[np.float64] = predict_with_network(input_data, weights_0)\n",
    "\n",
    "# Calculate error\n",
    "error_0 = model_output_0 - target_actual\n",
    "\n",
    "# Create weights that cause the network to make perfect prediction (3)\n",
    "weights_1 = {'node_0': [2, 1],\n",
    "             'node_1': [1, 0],\n",
    "             'output': [1, 1]}\n",
    "\n",
    "# Make prediction using new weights\n",
    "model_output_1: List[np.float64] = predict_with_network(input_data, weights_1)\n",
    "\n",
    "# Calculate the new error\n",
    "error_1: np.int32 = model_output_1 - target_actual\n",
    "\n",
    "print(error_0)\n",
    "print(error_1)"
   ]
  },
  {
   "cell_type": "markdown",
   "metadata": {},
   "source": [
    "### Subsection 5.2 Scaling up to multiple data points\n",
    "\n",
    "We've seen how different weights will have different accuracies on a single prediction. But usually, we'll want to measure model accuracy on many points. \n",
    "\n",
    "We'll compare model accuracies for two different sets of weights:"
   ]
  },
  {
   "cell_type": "code",
   "execution_count": 12,
   "metadata": {},
   "outputs": [],
   "source": [
    "weights_0: Dict[str, np.ndarray] = {'node_0': np.array([2, 1]), \n",
    "                                    'node_1': np.array([1, 2]), \n",
    "                                    'output': np.array([1, 1])}\n",
    "\n",
    "weights_1: Dict[str, np.ndarray] = {'node_0': np.array([2, 1]),\n",
    "                                    'node_1': np.array([1. , 1.5]),\n",
    "                                    'output': np.array([1. , 1.5])}"
   ]
  },
  {
   "cell_type": "markdown",
   "metadata": {},
   "source": [
    "`input_data` is a list of arrays. Each item in that list contains the data to make a single prediction. \n",
    "\n",
    "`target_actuals` is a list of numbers. Each item in that list is the actual value we are trying to predict."
   ]
  },
  {
   "cell_type": "code",
   "execution_count": 13,
   "metadata": {},
   "outputs": [],
   "source": [
    "input_data: List[np.ndarray] = [np.array([0, 3]), \n",
    "                                np.array([1, 2]), \n",
    "                                np.array([-1, -2]), \n",
    "                                np.array([4, 0])]\n",
    "\n",
    "target_actuals: List[int] =  [1, 3, 5, 7]"
   ]
  },
  {
   "cell_type": "markdown",
   "metadata": {},
   "source": [
    "We'll use the `mean_squared_error()` function from `sklearn.metrics`. It takes the true values and the predicted values as arguments."
   ]
  },
  {
   "cell_type": "code",
   "execution_count": 14,
   "metadata": {},
   "outputs": [
    {
     "name": "stdout",
     "output_type": "stream",
     "text": [
      "Mean squared error with weights_0: 37.50\n",
      "Mean squared error with weights_1: 49.89\n"
     ]
    }
   ],
   "source": [
    "model_output_0: List[np.int32] = []\n",
    "model_output_1: List[np.int32] = []\n",
    "\n",
    "for row in input_data:\n",
    "    model_output_0.append(predict_with_network(row, weights_0))\n",
    "    model_output_1.append(predict_with_network(row, weights_1))\n",
    "\n",
    "mse_0: float = mean_squared_error(target_actuals, model_output_0)\n",
    "mse_1: float = mean_squared_error(target_actuals, model_output_1)\n",
    "\n",
    "print(f\"Mean squared error with weights_0: {mse_0:.2f}\")\n",
    "print(f\"Mean squared error with weights_1: {mse_1:.2f}\")"
   ]
  },
  {
   "cell_type": "markdown",
   "metadata": {},
   "source": [
    "It looks like `model_output_1` has a higher mean squared error."
   ]
  },
  {
   "cell_type": "markdown",
   "metadata": {},
   "source": [
    "## Section 6. Gradient descent\n",
    "\n",
    "With gradient descent we repeatedly find a slope capturing how our loss function, $\\text{Loss}(\\omega)$, changes as a weight changes. We then do a small change to the weight to get to a lower point, and we repeat this process until we couldn't go downhill anymore.\n",
    "\n",
    "If the slope is positive, going opposite to the slope means moving to lower numbers. How do we achieve this? Subtracting the slope from the current value. But a too big step might lead us astray. Thus, instead of directly subtracting the slope, we multiply the slope by a small number, called the **learning rate**, and we update the weight by the product of that multiplication: $$ \\text{Updated weights} = \\text{weights} - \\text{slope} \\times \\text{learning rate}. $$\n",
    "\n",
    "We typically use a learning rate of $0.01$. This ensures that we take small steps, such that we reliably move towards the optimal weights.\n",
    "\n",
    "How do we find the relevant slope for each weight we need to update? Remember the chain rule of calculus... To calculate the slope for a weight, we need to multiply:\n",
    "1. The slope of the loss function wrt the value at the node we feed\n",
    "1. The value of the node that feeds into our weight\n",
    "1. The slope of the activation function wrt the value we feed into\n",
    "\n",
    "Let's put away the last point for a moment. The slope of the Mean-Squared loss function wrt to the prediction can be written as follows: $$2\\times\\text{Error}$$ where $\\text{error} = \\text{Predicted value} - \\text{Actual value}$ as aforementioned."
   ]
  },
  {
   "cell_type": "code",
   "execution_count": 19,
   "metadata": {},
   "outputs": [],
   "source": [
    "def get_error(input_data: np.ndarray, target: int, weights: np.ndarray) -> np.int32:\n",
    "    preds: np.int32 = (weights * input_data).sum()\n",
    "    error: np.int32 = preds - target\n",
    "    return error"
   ]
  },
  {
   "cell_type": "code",
   "execution_count": 20,
   "metadata": {},
   "outputs": [],
   "source": [
    "def get_slope(input_data: np.ndarray, target: int, weights: np.ndarray) -> np.ndarray:\n",
    "    error: np.int32 = get_error(input_data, target, weights)\n",
    "    slope: np.ndarray = 2 * input_data * error\n",
    "    return slope"
   ]
  },
  {
   "cell_type": "code",
   "execution_count": 23,
   "metadata": {},
   "outputs": [],
   "source": [
    "def get_mse(input_data: np.ndarray, target: int, weights: np.ndarray) -> np.float64:\n",
    "    errors: np.int32 = get_error(input_data, target, weights)\n",
    "    mse: np.float64 = np.mean(errors**2)\n",
    "    return mse"
   ]
  },
  {
   "cell_type": "code",
   "execution_count": 16,
   "metadata": {},
   "outputs": [],
   "source": [
    "input_data: np.ndarray = np.array([1, 2, 3])\n",
    "target: int = 0\n",
    "weights: np.ndarray = np.array([0, 2, 1])"
   ]
  },
  {
   "cell_type": "code",
   "execution_count": 34,
   "metadata": {},
   "outputs": [
    {
     "name": "stdout",
     "output_type": "stream",
     "text": [
      "[2.75060288e-05 5.50120575e-05 8.25180863e-05]\n",
      "[-0.49999929  1.00000141 -0.49999788]\n",
      "[1.98043407e-05 3.96086814e-05 5.94130221e-05]\n",
      "[-0.49999949  1.00000102 -0.49999847]\n",
      "[1.42591253e-05 2.85182506e-05 4.27773759e-05]\n",
      "[-0.49999963  1.00000073 -0.4999989 ]\n",
      "[1.02665702e-05 2.05331405e-05 3.07997107e-05]\n",
      "[-0.49999974  1.00000053 -0.49999921]\n",
      "[7.39193056e-06 1.47838611e-05 2.21757917e-05]\n",
      "[-0.49999981  1.00000038 -0.49999943]\n",
      "[5.32219001e-06 1.06443800e-05 1.59665700e-05]\n",
      "[-0.49999986  1.00000027 -0.49999959]\n",
      "[3.83197680e-06 7.66395361e-06 1.14959304e-05]\n",
      "[-0.4999999  1.0000002 -0.4999997]\n",
      "[2.7590233e-06 5.5180466e-06 8.2770699e-06]\n",
      "[-0.49999993  1.00000014 -0.49999979]\n",
      "[1.98649678e-06 3.97299355e-06 5.95949033e-06]\n",
      "[-0.49999995  1.0000001  -0.49999985]\n",
      "[1.43027768e-06 2.86055536e-06 4.29083303e-06]\n",
      "[-0.49999996  1.00000007 -0.49999989]\n",
      "[1.02979993e-06 2.05959986e-06 3.08939979e-06]\n",
      "[-0.49999997  1.00000005 -0.49999992]\n",
      "[7.41455949e-07 1.48291190e-06 2.22436785e-06]\n",
      "[-0.49999998  1.00000004 -0.49999994]\n",
      "[5.33848283e-07 1.06769657e-06 1.60154485e-06]\n",
      "[-0.49999999  1.00000003 -0.49999996]\n",
      "[3.84370764e-07 7.68741527e-07 1.15311229e-06]\n",
      "[-0.49999999  1.00000002 -0.49999997]\n",
      "[2.76746949e-07 5.53493899e-07 8.30240848e-07]\n",
      "[-0.49999999  1.00000001 -0.49999998]\n",
      "[1.99257804e-07 3.98515608e-07 5.97773412e-07]\n",
      "[-0.49999999  1.00000001 -0.49999998]\n",
      "[1.43465619e-07 2.86931238e-07 4.30396857e-07]\n",
      "[-0.5         1.00000001 -0.49999999]\n",
      "[1.03295246e-07 2.06590491e-07 3.09885737e-07]\n",
      "[-0.5         1.00000001 -0.49999999]\n",
      "[7.43725765e-08 1.48745153e-07 2.23117730e-07]\n",
      "[-0.5         1.         -0.49999999]\n",
      "[5.35482552e-08 1.07096510e-07 1.60644765e-07]\n",
      "[-0.5  1.  -0.5]\n"
     ]
    }
   ],
   "source": [
    "n_updates: int = 20\n",
    "learning_rate: float = 0.01\n",
    "mse_hist: List[np.float64] = []\n",
    "\n",
    "# Iterate over the number of updates\n",
    "for i in range(n_updates):\n",
    "    # Calculate the slope\n",
    "    slope: np.ndarray = get_slope(input_data, target, weights)\n",
    "\n",
    "    # Update the weights\n",
    "    weights: np.ndarray = weights - slope * learning_rate\n",
    "\n",
    "    # Calculate MSE with new weights\n",
    "    mse: np.float64 = get_mse(input_data, target, weights)\n",
    "    mse_hist.append(mse)"
   ]
  },
  {
   "cell_type": "code",
   "execution_count": 32,
   "metadata": {},
   "outputs": [
    {
     "data": {
      "image/png": "[encoded data removed]",
      "text/plain": [
       "<Figure size 432x288 with 1 Axes>"
      ]
     },
     "metadata": {
      "needs_background": "light"
     },
     "output_type": "display_data"
    }
   ],
   "source": [
    "plt.plot(mse_hist, c='b', lw=1)\n",
    "plt.xlabel('Iterations')\n",
    "plt.ylabel('Mean Squared Error')\n",
    "plt.grid(True, c='k', ls=':')\n",
    "plt.show()"
   ]
  },
  {
   "cell_type": "markdown",
   "metadata": {},
   "source": [
    " As we can see, the mean-squared error decreases as the number of iterations goes up."
   ]
  },
  {
   "cell_type": "code",
   "execution_count": null,
   "metadata": {},
   "outputs": [],
   "source": []
  }
 ],
 "metadata": {
  "kernelspec": {
   "display_name": "Python 3",
   "language": "python",
   "name": "python3"
  },
  "language_info": {
   "codemirror_mode": {
    "name": "ipython",
    "version": 3
   },
   "file_extension": ".py",
   "mimetype": "text/x-python",
   "name": "python",
   "nbconvert_exporter": "python",
   "pygments_lexer": "ipython3",
   "version": "3.7.3"
  }
 },
 "nbformat": 4,
 "nbformat_minor": 4
}
