{
 "cells": [
  {
   "cell_type": "markdown",
   "metadata": {},
   "source": [
    "# Basics of deep learning and neural networks\n",
    "\n",
    "In this notebook, we will become familiar with the fundamental concepts used in deep learning. We will build simple neural networks and generate predictions with them.\n",
    "\n",
    "We will be working with networks in order to predict transactions for a bank.\n",
    "\n",
    "Overview:\n",
    "1. [Basics of deep learning and neural networks](#Section-1.-Basics-of-deep-learning-and-neural-networks)\n",
    "1. [The Rectified Linear Activation Function (ReLU)](#Section-2.-The-Rectified-Linear-Activation-Function)\n",
    "1. [Applying the network to many observations/rows of data](#Section-3.-Applying-the-network-to-many-observations/rows-of-data)\n",
    "1. [Deeper networks](#Section-4.-Deeper-networks)\n",
    "1. [The need for optimization](#Section-5.-The-need-for-optimization)\n",
    "    1. [Calculating the error for one data point](#Subsection-5.1-Calculating-the-error-for-one-data-point)\n",
    "    1. [Scaling up to multiple data points](#Subsection-5.2-Scaling-up-to-multiple-data-points)\n",
    "1. [Gradient descent](#Section-6.-Gradient-descent)\n",
    "1. [Creating a keras model](#Section-7:-Creating-a-keras-model)\n",
    "    1. [EDA](#Subsection-7.1:-EDA)\n",
    "    1. [Specifying our model](#Subsection-7.2:-Specifying-our-model)\n",
    "    1. [Compiling and fitting our model](#Subsection-7.3:-Compiling-and-fitting-our-model)\n",
    "1. [Classification models](#Section-8.-Classification-models)\n",
    "1. [Using models](#Section-9.-Using-models)\n",
    "1. [Understanding model optimization](#Section-10.-Understanding-model-optimization)\n",
    "1. [Model Validation](#Section-11.-Model-Validation)\n",
    "    1. [Early stopping: Optimizing the optimization](#Subsection-11.1-Early-stopping:-Optimizing-the-optimization)\n",
    "    1. [Experimenting with wider networks](#Subsection-11.2:-Experimenting-with-wider-networks)"
   ]
  },
  {
   "cell_type": "code",
   "execution_count": 1,
   "metadata": {},
   "outputs": [
    {
     "name": "stderr",
     "output_type": "stream",
     "text": [
      "Using TensorFlow backend.\n",
      "C:\\Users\\YBant\\Anaconda3\\lib\\site-packages\\tensorflow\\python\\framework\\dtypes.py:526: FutureWarning: Passing (type, 1) or '1type' as a synonym of type is deprecated; in a future version of numpy, it will be understood as (type, (1,)) / '(1,)type'.\n",
      "  _np_qint8 = np.dtype([(\"qint8\", np.int8, 1)])\n",
      "C:\\Users\\YBant\\Anaconda3\\lib\\site-packages\\tensorflow\\python\\framework\\dtypes.py:527: FutureWarning: Passing (type, 1) or '1type' as a synonym of type is deprecated; in a future version of numpy, it will be understood as (type, (1,)) / '(1,)type'.\n",
      "  _np_quint8 = np.dtype([(\"quint8\", np.uint8, 1)])\n",
      "C:\\Users\\YBant\\Anaconda3\\lib\\site-packages\\tensorflow\\python\\framework\\dtypes.py:528: FutureWarning: Passing (type, 1) or '1type' as a synonym of type is deprecated; in a future version of numpy, it will be understood as (type, (1,)) / '(1,)type'.\n",
      "  _np_qint16 = np.dtype([(\"qint16\", np.int16, 1)])\n",
      "C:\\Users\\YBant\\Anaconda3\\lib\\site-packages\\tensorflow\\python\\framework\\dtypes.py:529: FutureWarning: Passing (type, 1) or '1type' as a synonym of type is deprecated; in a future version of numpy, it will be understood as (type, (1,)) / '(1,)type'.\n",
      "  _np_quint16 = np.dtype([(\"quint16\", np.uint16, 1)])\n",
      "C:\\Users\\YBant\\Anaconda3\\lib\\site-packages\\tensorflow\\python\\framework\\dtypes.py:530: FutureWarning: Passing (type, 1) or '1type' as a synonym of type is deprecated; in a future version of numpy, it will be understood as (type, (1,)) / '(1,)type'.\n",
      "  _np_qint32 = np.dtype([(\"qint32\", np.int32, 1)])\n",
      "C:\\Users\\YBant\\Anaconda3\\lib\\site-packages\\tensorflow\\python\\framework\\dtypes.py:535: FutureWarning: Passing (type, 1) or '1type' as a synonym of type is deprecated; in a future version of numpy, it will be understood as (type, (1,)) / '(1,)type'.\n",
      "  np_resource = np.dtype([(\"resource\", np.ubyte, 1)])\n"
     ]
    }
   ],
   "source": [
    "from sklearn.metrics import mean_squared_error\n",
    "\n",
    "import keras\n",
    "from keras.models import Sequential, load_model\n",
    "from keras.layers import Dense, Input\n",
    "from keras.utils.np_utils import to_categorical\n",
    "from keras.optimizers import SGD\n",
    "from keras.callbacks import EarlyStopping\n",
    "from keras.engine.sequential import Sequential\n",
    "\n",
    "import pandas as pd\n",
    "from pandas.core.frame import Series, DataFrame\n",
    "import numpy as np\n",
    "from numpy.core import ndarray, int32, float64\n",
    "import matplotlib.pyplot as plt\n",
    "from typing import Dict, List, Tuple, Union\n",
    "import os"
   ]
  },
  {
   "cell_type": "code",
   "execution_count": 2,
   "metadata": {},
   "outputs": [
    {
     "data": {
      "text/plain": [
       "'2.2.4'"
      ]
     },
     "execution_count": 2,
     "metadata": {},
     "output_type": "execute_result"
    }
   ],
   "source": [
    "keras.__version__"
   ]
  },
  {
   "cell_type": "code",
   "execution_count": 3,
   "metadata": {},
   "outputs": [],
   "source": [
    "basedir: str = os.getcwd()"
   ]
  },
  {
   "cell_type": "code",
   "execution_count": 4,
   "metadata": {},
   "outputs": [],
   "source": [
    "def normabspath(basedir: str, filename: str):\n",
    "    return os.path.normpath(os.path.join(basedir, filename))"
   ]
  },
  {
   "cell_type": "markdown",
   "metadata": {},
   "source": [
    "## Section 1. Basics of deep learning and neural networks\n",
    "\n",
    "We will code a **forward propagation** (prediction) for our first neural network.\n",
    "\n",
    "Say that each data point is a customer. The first input is how many accounts they have, and the second input is how many children they have. The model will predict **how many transactions the user makes in the next year**. "
   ]
  },
  {
   "cell_type": "code",
   "execution_count": 5,
   "metadata": {},
   "outputs": [
    {
     "data": {
      "text/plain": [
       "-39"
      ]
     },
     "execution_count": 5,
     "metadata": {},
     "output_type": "execute_result"
    }
   ],
   "source": [
    "# Hard-code input data and weights\n",
    "num_accounts: int = 3\n",
    "num_children: int = 5\n",
    "\n",
    "input_data: ndarray = np.array([num_accounts, num_children])\n",
    "    \n",
    "weights: Dict[str, ndarray] = {'node_0': np.array([2, 4]), \n",
    "                                  'node_1': np.array([ 4, -5]), \n",
    "                                  'output': np.array([2, 7])}\n",
    "\n",
    "# Calculate the nodes and the output of the neural network\n",
    "node_0_value: int32 = (input_data * weights['node_0']).sum()\n",
    "\n",
    "node_1_value: int32 = (input_data * weights['node_1']).sum()\n",
    "\n",
    "hidden_layer_outputs: ndarray = np.array([node_0_value, node_1_value])\n",
    "\n",
    "output: int32 = (hidden_layer_outputs * weights['output']).sum()\n",
    "\n",
    "output"
   ]
  },
  {
   "cell_type": "markdown",
   "metadata": {},
   "source": [
    "It looks like the network generated a prediction of $-39$ transactions. This number does not make sense as we have to add an activation function as in the next section."
   ]
  },
  {
   "cell_type": "markdown",
   "metadata": {},
   "source": [
    "## Section 2. The Rectified Linear Activation Function\n",
    "\n",
    "An \"activation function\" is a function applied at each node. It converts the node's input into some output.\n",
    "\n",
    "The rectified linear activation function (called **ReLU**) has been shown to lead to very high-performance networks. This function takes a single number as an input, returning 0 if the input is negative, and the input if the input is positive."
   ]
  },
  {
   "cell_type": "code",
   "execution_count": 6,
   "metadata": {},
   "outputs": [],
   "source": [
    "def relu(input: int32) -> int:\n",
    "    '''ReLU activation function.'''\n",
    "    return max(input, 0)"
   ]
  },
  {
   "cell_type": "code",
   "execution_count": 7,
   "metadata": {},
   "outputs": [
    {
     "data": {
      "text/plain": [
       "52"
      ]
     },
     "execution_count": 7,
     "metadata": {},
     "output_type": "execute_result"
    }
   ],
   "source": [
    "node_0_input: int32 = (input_data * weights['node_0']).sum()\n",
    "node_0_output: int = relu(node_0_input)\n",
    "\n",
    "node_1_input: int32 = (input_data * weights['node_1']).sum()\n",
    "node_1_output: int = relu(node_1_input)\n",
    "\n",
    "hidden_layer_outputs: ndarray = np.array([node_0_output, node_1_output])\n",
    "\n",
    "model_output: int32 = (hidden_layer_outputs * weights['output']).sum()\n",
    "\n",
    "model_output"
   ]
  },
  {
   "cell_type": "markdown",
   "metadata": {},
   "source": [
    "We predicted $52$ transactions. Without this activation function, you would have predicted a negative number ($-39$)! The real power of activation functions will come soon when we start tuning model weights.\n",
    "\n",
    "## Section 3. Applying the network to many observations/rows of data\n",
    "\n",
    "You'll now define a function called `predict_with_network()` which will generate predictions for multiple data observations."
   ]
  },
  {
   "cell_type": "code",
   "execution_count": 8,
   "metadata": {},
   "outputs": [],
   "source": [
    "def predict_with_network(input_data_row, weights):\n",
    "\n",
    "    node_0_input = (input_data_row * weights['node_0']).sum()\n",
    "    node_0_output = relu(node_0_input)\n",
    "\n",
    "    node_1_input = (input_data_row * weights['node_1']).sum()\n",
    "    node_1_output = relu(node_1_input)\n",
    "\n",
    "    hidden_layer_outputs: ndarray = np.array([node_0_output, node_1_output])\n",
    "\n",
    "    input_to_final_layer = (hidden_layer_outputs * weights['output']).sum()\n",
    "    model_output = relu(input_to_final_layer)\n",
    "\n",
    "    return model_output"
   ]
  },
  {
   "cell_type": "code",
   "execution_count": 9,
   "metadata": {},
   "outputs": [],
   "source": [
    "input_data: List[ndarray] = [np.array([3, 5]),\n",
    "                                np.array([ 1, -1]),\n",
    "                                np.array([0, 0]),\n",
    "                                np.array([8, 4])]\n",
    "\n",
    "weights: Dict[str, ndarray] = {'node_0': np.array([2, 4]),\n",
    "                                  'node_1': np.array([ 4, -5]),\n",
    "                                  'output': np.array([2, 7])}"
   ]
  },
  {
   "cell_type": "code",
   "execution_count": 10,
   "metadata": {},
   "outputs": [
    {
     "data": {
      "text/plain": [
       "[52, 63, 0, 148]"
      ]
     },
     "execution_count": 10,
     "metadata": {},
     "output_type": "execute_result"
    }
   ],
   "source": [
    "results: List[int32] = []\n",
    "for input_data_row in input_data:\n",
    "    results.append(predict_with_network(input_data_row, weights))\n",
    "\n",
    "results"
   ]
  },
  {
   "cell_type": "markdown",
   "metadata": {},
   "source": [
    "Now, we have predicted the number of transactions for 4 observations (i.e. individuals)."
   ]
  },
  {
   "cell_type": "markdown",
   "metadata": {},
   "source": [
    "## Section 4. Deeper networks\n",
    "\n",
    "An important fact about deep networks is that they internally build up representations of the patterns in the data that are useful for making predictions. And they find increasingly complex patterns as we go through successive hidden layers of the network.\n",
    "\n",
    "Deep learning is also sometimes called **representation learning**, because subsequent layers build increasingly sophiscticated representations of the raw data, until we get to a stage where we can make preditions. In other words, the last layers capture the most complex interactions.\n",
    "\n",
    "The cool thing about DL is that we do not need to specify the interactions. Instead, the network gets weights that find the relevant patterns to make better predictions. It is the model training process sets them to optimize predictive accuracy."
   ]
  },
  {
   "cell_type": "code",
   "execution_count": 11,
   "metadata": {},
   "outputs": [],
   "source": [
    "def predict_with_network(input_data: ndarray, weights):\n",
    "    \"\"\"Predicts the number of transactions using a deep network.\"\"\"\n",
    "    # Calculate node 0 in the first hidden layer\n",
    "    node_0_0_input = (input_data * weights['node_0_0']).sum()\n",
    "    node_0_0_output = relu(node_0_0_input)\n",
    "\n",
    "    # Calculate node 1 in the first hidden layer\n",
    "    node_0_1_input = (input_data * weights['node_0_1']).sum()\n",
    "    node_0_1_output = relu(node_0_1_input)\n",
    "\n",
    "    # Put node values into a numpy array\n",
    "    hidden_0_outputs: ndarray = np.array([node_0_0_output, node_0_1_output])\n",
    "    \n",
    "    # Calculate node 0 in the second hidden layer\n",
    "    node_1_0_input = (hidden_0_outputs * weights['node_1_0']).sum()\n",
    "    node_1_0_output = relu(node_1_0_input)\n",
    "\n",
    "    # Calculate node 1 in the second hidden layer\n",
    "    node_1_1_input = (hidden_0_outputs * weights['node_1_1']).sum()\n",
    "    node_1_1_output = relu(node_1_1_input)\n",
    "\n",
    "    # Put node values into a numpy array\n",
    "    hidden_1_outputs = np.array([node_1_0_output, node_1_1_output])\n",
    "\n",
    "    # Calculate model output\n",
    "    model_output = (hidden_1_outputs * weights['output']).sum()\n",
    "    \n",
    "    return(model_output)"
   ]
  },
  {
   "cell_type": "code",
   "execution_count": 12,
   "metadata": {},
   "outputs": [
    {
     "name": "stdout",
     "output_type": "stream",
     "text": [
      "182\n"
     ]
    }
   ],
   "source": [
    "input_data: ndarray = np.array([3, 5])\n",
    "\n",
    "weights: Dict[str, ndarray] = {'node_0_0': np.array([2, 4]),\n",
    "                                  'node_0_1': np.array([ 4, -5]),\n",
    "                                  'node_1_0': np.array([-1,  2]),\n",
    "                                  'node_1_1': np.array([1, 2]),\n",
    "                                  'output': np.array([2, 7])}\n",
    "    \n",
    "output = predict_with_network(input_data, weights)\n",
    "print(output)"
   ]
  },
  {
   "cell_type": "markdown",
   "metadata": {},
   "source": [
    "The network generated a prediction of 182 transactions.\n",
    "\n",
    "## Section 5. The need for optimization\n",
    "\n",
    "### Subsection 5.1 Calculating the error for one data point\n",
    "\n",
    "We will now see how we can improve the model accuracy by changing values of weights. For the moment, we won't use an activation function in this example. Or, we can supose that we are using an activation function that returns the input. We call such a function the identity function.\n",
    "\n",
    "Let's say that the **true value of the target** is 3. So, the closer our prediction is to 3, the more accurate the model is for this data point.\n",
    "\n",
    "We will use **forward propagation** to fill in the values of the hidden layer.\n",
    "\n",
    "The **error** can be computes as follows: $$ \\text{Error} = \\text{Predicted target value} - \\text{Actual target value}. $$"
   ]
  },
  {
   "cell_type": "code",
   "execution_count": 13,
   "metadata": {},
   "outputs": [],
   "source": [
    "def predict_with_network(input_data_point: ndarray, weights: Dict[str, List[int]]) -> float64:\n",
    "    node_0_input = (input_data_point * weights['node_0']).sum()\n",
    "    node_0_output = relu(node_0_input)\n",
    "\n",
    "    node_1_input = (input_data_point * weights['node_1']).sum()\n",
    "    node_1_output = relu(node_1_input)\n",
    "\n",
    "    hidden_layer_values = np.array([node_0_output, node_1_output])\n",
    "    input_to_final_layer = (hidden_layer_values * weights['output']).sum()\n",
    "    model_output = relu(input_to_final_layer)\n",
    "    \n",
    "    return(model_output)"
   ]
  },
  {
   "cell_type": "code",
   "execution_count": 14,
   "metadata": {},
   "outputs": [
    {
     "name": "stdout",
     "output_type": "stream",
     "text": [
      "6\n",
      "0\n"
     ]
    }
   ],
   "source": [
    "input_data: ndarray = np.array([0, 3])\n",
    "\n",
    "# Sample weights\n",
    "weights_0: Dict[str, List[int]] = {'node_0': [2, 1],\n",
    "                                   'node_1': [1, 2],\n",
    "                                   'output': [1, 1]}\n",
    "\n",
    "# The actual target value, use to calculate the error\n",
    "target_actual: int = 3\n",
    "\n",
    "# Make prediction using original weights\n",
    "model_output_0: List[float64] = predict_with_network(input_data, weights_0)\n",
    "\n",
    "# Calculate error\n",
    "error_0 = model_output_0 - target_actual\n",
    "\n",
    "# Create weights that cause the network to make perfect prediction (3)\n",
    "weights_1 = {'node_0': [2, 1],\n",
    "             'node_1': [1, 0],\n",
    "             'output': [1, 1]}\n",
    "\n",
    "# Make prediction using new weights\n",
    "model_output_1: List[float64] = predict_with_network(input_data, weights_1)\n",
    "\n",
    "# Calculate the new error\n",
    "error_1: int32 = model_output_1 - target_actual\n",
    "\n",
    "print(error_0)\n",
    "print(error_1)"
   ]
  },
  {
   "cell_type": "markdown",
   "metadata": {},
   "source": [
    "### Subsection 5.2 Scaling up to multiple data points\n",
    "\n",
    "We've seen how different weights will have different accuracies on a single prediction. But usually, we'll want to measure model accuracy on many points. \n",
    "\n",
    "We'll compare model accuracies for two different sets of weights:"
   ]
  },
  {
   "cell_type": "code",
   "execution_count": 15,
   "metadata": {},
   "outputs": [],
   "source": [
    "weights_0: Dict[str, ndarray] = {'node_0': np.array([2, 1]), \n",
    "                                    'node_1': np.array([1, 2]), \n",
    "                                    'output': np.array([1, 1])}\n",
    "\n",
    "weights_1: Dict[str, ndarray] = {'node_0': np.array([2, 1]),\n",
    "                                    'node_1': np.array([1. , 1.5]),\n",
    "                                    'output': np.array([1. , 1.5])}"
   ]
  },
  {
   "cell_type": "markdown",
   "metadata": {},
   "source": [
    "`input_data` is a list of arrays. Each item in that list contains the data to make a single prediction. \n",
    "\n",
    "`target_actuals` is a list of numbers. Each item in that list is the actual value we are trying to predict."
   ]
  },
  {
   "cell_type": "code",
   "execution_count": 16,
   "metadata": {},
   "outputs": [],
   "source": [
    "input_data: List[ndarray] = [np.array([0, 3]), \n",
    "                                np.array([1, 2]), \n",
    "                                np.array([-1, -2]), \n",
    "                                np.array([4, 0])]\n",
    "\n",
    "target_actuals: List[int] =  [1, 3, 5, 7]"
   ]
  },
  {
   "cell_type": "markdown",
   "metadata": {},
   "source": [
    "We'll use the `mean_squared_error()` function from `sklearn.metrics`. It takes the true values and the predicted values as arguments."
   ]
  },
  {
   "cell_type": "code",
   "execution_count": 17,
   "metadata": {},
   "outputs": [
    {
     "name": "stdout",
     "output_type": "stream",
     "text": [
      "Mean squared error with weights_0: 37.50\n",
      "Mean squared error with weights_1: 49.89\n"
     ]
    }
   ],
   "source": [
    "model_output_0: List[int32] = []\n",
    "model_output_1: List[int32] = []\n",
    "\n",
    "for row in input_data:\n",
    "    model_output_0.append(predict_with_network(row, weights_0))\n",
    "    model_output_1.append(predict_with_network(row, weights_1))\n",
    "\n",
    "mse_0: float = mean_squared_error(target_actuals, model_output_0)\n",
    "mse_1: float = mean_squared_error(target_actuals, model_output_1)\n",
    "\n",
    "print(f\"Mean squared error with weights_0: {mse_0:.2f}\")\n",
    "print(f\"Mean squared error with weights_1: {mse_1:.2f}\")"
   ]
  },
  {
   "cell_type": "markdown",
   "metadata": {},
   "source": [
    "It looks like `model_output_1` has a higher mean squared error."
   ]
  },
  {
   "cell_type": "markdown",
   "metadata": {},
   "source": [
    "## Section 6. Gradient descent\n",
    "\n",
    "With gradient descent we repeatedly find a slope capturing how our loss function, $\\text{Loss}(\\omega)$, changes as a weight changes. We then do a small change to the weight to get to a lower point, and we repeat this process until we couldn't go downhill anymore.\n",
    "\n",
    "If the slope is positive, going opposite to the slope means moving to lower numbers. How do we achieve this? Subtracting the slope from the current value. But a too big step might lead us astray. Thus, instead of directly subtracting the slope, we multiply the slope by a small number, called the **learning rate**, and we update the weight by the product of that multiplication: $$ \\text{Updated weights} = \\text{weights} - \\text{slope} \\times \\text{learning rate}. $$\n",
    "\n",
    "We typically use a learning rate of $0.01$. This ensures that we take small steps, such that we reliably move towards the optimal weights.\n",
    "\n",
    "How do we find the relevant slope for each weight we need to update? Remember the chain rule of calculus... To calculate the slope for a weight, we need to multiply:\n",
    "1. The slope of the loss function wrt the value at the node we feed\n",
    "1. The value of the node that feeds into our weight\n",
    "1. The slope of the activation function wrt the value we feed into\n",
    "\n",
    "Let's put away the last point for a moment. The slope of the Mean-Squared loss function wrt to the prediction can be written as follows: $$2\\times\\text{Error}$$ where $\\text{error} = \\text{Predicted value} - \\text{Actual value}$ as aforementioned."
   ]
  },
  {
   "cell_type": "code",
   "execution_count": 18,
   "metadata": {},
   "outputs": [],
   "source": [
    "def get_error(input_data: ndarray, target: int, weights: ndarray) -> int32:\n",
    "    preds: int32 = (weights * input_data).sum()\n",
    "    error: int32 = preds - target\n",
    "    return error"
   ]
  },
  {
   "cell_type": "code",
   "execution_count": 19,
   "metadata": {},
   "outputs": [],
   "source": [
    "def get_slope(input_data: ndarray, target: int, weights: ndarray) -> ndarray:\n",
    "    error: int32 = get_error(input_data, target, weights)\n",
    "    slope: ndarray = 2 * input_data * error\n",
    "    return slope"
   ]
  },
  {
   "cell_type": "code",
   "execution_count": 20,
   "metadata": {},
   "outputs": [],
   "source": [
    "def get_mse(input_data: ndarray, target: int, weights: ndarray) -> float64:\n",
    "    errors: int32 = get_error(input_data, target, weights)\n",
    "    mse: float64 = np.mean(errors**2)\n",
    "    return mse"
   ]
  },
  {
   "cell_type": "code",
   "execution_count": 21,
   "metadata": {},
   "outputs": [],
   "source": [
    "input_data: ndarray = np.array([1, 2, 3])\n",
    "target: int = 0\n",
    "weights: ndarray = np.array([0, 2, 1])"
   ]
  },
  {
   "cell_type": "code",
   "execution_count": 22,
   "metadata": {},
   "outputs": [],
   "source": [
    "n_updates: int = 20\n",
    "learning_rate: float = 0.01\n",
    "mse_hist: List[float64] = []\n",
    "\n",
    "# Iterate over the number of updates\n",
    "for i in range(n_updates):\n",
    "    # Calculate the slope\n",
    "    slope: ndarray = get_slope(input_data, target, weights)\n",
    "\n",
    "    # Update the weights\n",
    "    weights: ndarray = weights - slope * learning_rate\n",
    "\n",
    "    # Calculate MSE with new weights\n",
    "    mse: float64 = get_mse(input_data, target, weights)\n",
    "    mse_hist.append(mse)"
   ]
  },
  {
   "cell_type": "code",
   "execution_count": 23,
   "metadata": {},
   "outputs": [
    {
     "data": {
      "image/png": "[encoded data removed]",
      "text/plain": [
       "<Figure size 432x288 with 1 Axes>"
      ]
     },
     "metadata": {
      "needs_background": "light"
     },
     "output_type": "display_data"
    }
   ],
   "source": [
    "plt.plot(mse_hist, c='b', lw=1)\n",
    "plt.xlabel('Iterations')\n",
    "plt.ylabel('Mean Squared Error')\n",
    "plt.grid(True, c='k', ls=':')\n",
    "plt.show()"
   ]
  },
  {
   "cell_type": "markdown",
   "metadata": {},
   "source": [
    " As we can see, the mean-squared error decreases as the number of iterations goes up."
   ]
  },
  {
   "cell_type": "markdown",
   "metadata": {},
   "source": [
    "## Section 7: Creating a keras model\n",
    "\n",
    "The Keras workflow has 4 steps:\n",
    "1. Specify the architecture\n",
    "    1. How many layers?\n",
    "    1. How many nodes in each layer?\n",
    "    1. What activation function to use in each layer?\n",
    "1. Compile the model\n",
    "    * This specifies the loss function, and\n",
    "    * The optimization solver to use\n",
    "1. Fit the model\n",
    "1. Make predictions\n",
    "\n",
    "\n",
    "### Subsection 7.1: EDA\n",
    "We will soon start building models in Keras to predict wages based on various professional and demographic factors. Before we start building a model, it's good to understand our data by performing some exploratory analysis (EDA).\n",
    "\n",
    "The target variable we'll be predicting is `wage_per_hour`. Some of the predictor variables are binary indicators, where a value of `1` represents `True`, and `0` represents `False`."
   ]
  },
  {
   "cell_type": "code",
   "execution_count": 24,
   "metadata": {},
   "outputs": [
    {
     "data": {
      "text/html": [
       "<div>\n",
       "<style scoped>\n",
       "    .dataframe tbody tr th:only-of-type {\n",
       "        vertical-align: middle;\n",
       "    }\n",
       "\n",
       "    .dataframe tbody tr th {\n",
       "        vertical-align: top;\n",
       "    }\n",
       "\n",
       "    .dataframe thead th {\n",
       "        text-align: right;\n",
       "    }\n",
       "</style>\n",
       "<table border=\"1\" class=\"dataframe\">\n",
       "  <thead>\n",
       "    <tr style=\"text-align: right;\">\n",
       "      <th></th>\n",
       "      <th>wage_per_hour</th>\n",
       "      <th>union</th>\n",
       "      <th>education_yrs</th>\n",
       "      <th>experience_yrs</th>\n",
       "      <th>age</th>\n",
       "      <th>female</th>\n",
       "      <th>marr</th>\n",
       "      <th>south</th>\n",
       "      <th>manufacturing</th>\n",
       "      <th>construction</th>\n",
       "    </tr>\n",
       "  </thead>\n",
       "  <tbody>\n",
       "    <tr>\n",
       "      <th>0</th>\n",
       "      <td>5.10</td>\n",
       "      <td>0</td>\n",
       "      <td>8</td>\n",
       "      <td>21</td>\n",
       "      <td>35</td>\n",
       "      <td>1</td>\n",
       "      <td>1</td>\n",
       "      <td>0</td>\n",
       "      <td>1</td>\n",
       "      <td>0</td>\n",
       "    </tr>\n",
       "    <tr>\n",
       "      <th>1</th>\n",
       "      <td>4.95</td>\n",
       "      <td>0</td>\n",
       "      <td>9</td>\n",
       "      <td>42</td>\n",
       "      <td>57</td>\n",
       "      <td>1</td>\n",
       "      <td>1</td>\n",
       "      <td>0</td>\n",
       "      <td>1</td>\n",
       "      <td>0</td>\n",
       "    </tr>\n",
       "    <tr>\n",
       "      <th>2</th>\n",
       "      <td>6.67</td>\n",
       "      <td>0</td>\n",
       "      <td>12</td>\n",
       "      <td>1</td>\n",
       "      <td>19</td>\n",
       "      <td>0</td>\n",
       "      <td>0</td>\n",
       "      <td>0</td>\n",
       "      <td>1</td>\n",
       "      <td>0</td>\n",
       "    </tr>\n",
       "  </tbody>\n",
       "</table>\n",
       "</div>"
      ],
      "text/plain": [
       "   wage_per_hour  union  education_yrs  experience_yrs  age  female  marr  \\\n",
       "0           5.10      0              8              21   35       1     1   \n",
       "1           4.95      0              9              42   57       1     1   \n",
       "2           6.67      0             12               1   19       0     0   \n",
       "\n",
       "   south  manufacturing  construction  \n",
       "0      0              1             0  \n",
       "1      0              1             0  \n",
       "2      0              1             0  "
      ]
     },
     "execution_count": 24,
     "metadata": {},
     "output_type": "execute_result"
    }
   ],
   "source": [
    "data = pd.read_csv('data/hourly_wages.csv')\n",
    "data.head(3)"
   ]
  },
  {
   "cell_type": "markdown",
   "metadata": {},
   "source": [
    "Of the 9 predictor variables in the DataFrame, how many are binary indicators? The `min` and `max` values as shown by `.describe()` will be informative here. So, how many binary indicator predictors are there? We can observe that there are 6 binary predictors."
   ]
  },
  {
   "cell_type": "code",
   "execution_count": 25,
   "metadata": {},
   "outputs": [
    {
     "data": {
      "text/html": [
       "<div>\n",
       "<style scoped>\n",
       "    .dataframe tbody tr th:only-of-type {\n",
       "        vertical-align: middle;\n",
       "    }\n",
       "\n",
       "    .dataframe tbody tr th {\n",
       "        vertical-align: top;\n",
       "    }\n",
       "\n",
       "    .dataframe thead th {\n",
       "        text-align: right;\n",
       "    }\n",
       "</style>\n",
       "<table border=\"1\" class=\"dataframe\">\n",
       "  <thead>\n",
       "    <tr style=\"text-align: right;\">\n",
       "      <th></th>\n",
       "      <th>wage_per_hour</th>\n",
       "      <th>union</th>\n",
       "      <th>education_yrs</th>\n",
       "      <th>experience_yrs</th>\n",
       "      <th>age</th>\n",
       "      <th>female</th>\n",
       "      <th>marr</th>\n",
       "      <th>south</th>\n",
       "      <th>manufacturing</th>\n",
       "      <th>construction</th>\n",
       "    </tr>\n",
       "  </thead>\n",
       "  <tbody>\n",
       "    <tr>\n",
       "      <th>count</th>\n",
       "      <td>534.0</td>\n",
       "      <td>534.0</td>\n",
       "      <td>534.0</td>\n",
       "      <td>534.0</td>\n",
       "      <td>534.0</td>\n",
       "      <td>534.0</td>\n",
       "      <td>534.0</td>\n",
       "      <td>534.0</td>\n",
       "      <td>534.0</td>\n",
       "      <td>534.0</td>\n",
       "    </tr>\n",
       "    <tr>\n",
       "      <th>mean</th>\n",
       "      <td>9.0</td>\n",
       "      <td>0.2</td>\n",
       "      <td>13.0</td>\n",
       "      <td>17.8</td>\n",
       "      <td>36.8</td>\n",
       "      <td>0.5</td>\n",
       "      <td>0.7</td>\n",
       "      <td>0.3</td>\n",
       "      <td>0.2</td>\n",
       "      <td>0.0</td>\n",
       "    </tr>\n",
       "    <tr>\n",
       "      <th>std</th>\n",
       "      <td>5.1</td>\n",
       "      <td>0.4</td>\n",
       "      <td>2.6</td>\n",
       "      <td>12.4</td>\n",
       "      <td>11.7</td>\n",
       "      <td>0.5</td>\n",
       "      <td>0.5</td>\n",
       "      <td>0.5</td>\n",
       "      <td>0.4</td>\n",
       "      <td>0.2</td>\n",
       "    </tr>\n",
       "    <tr>\n",
       "      <th>min</th>\n",
       "      <td>1.0</td>\n",
       "      <td>0.0</td>\n",
       "      <td>2.0</td>\n",
       "      <td>0.0</td>\n",
       "      <td>18.0</td>\n",
       "      <td>0.0</td>\n",
       "      <td>0.0</td>\n",
       "      <td>0.0</td>\n",
       "      <td>0.0</td>\n",
       "      <td>0.0</td>\n",
       "    </tr>\n",
       "    <tr>\n",
       "      <th>25%</th>\n",
       "      <td>5.2</td>\n",
       "      <td>0.0</td>\n",
       "      <td>12.0</td>\n",
       "      <td>8.0</td>\n",
       "      <td>28.0</td>\n",
       "      <td>0.0</td>\n",
       "      <td>0.0</td>\n",
       "      <td>0.0</td>\n",
       "      <td>0.0</td>\n",
       "      <td>0.0</td>\n",
       "    </tr>\n",
       "    <tr>\n",
       "      <th>50%</th>\n",
       "      <td>7.8</td>\n",
       "      <td>0.0</td>\n",
       "      <td>12.0</td>\n",
       "      <td>15.0</td>\n",
       "      <td>35.0</td>\n",
       "      <td>0.0</td>\n",
       "      <td>1.0</td>\n",
       "      <td>0.0</td>\n",
       "      <td>0.0</td>\n",
       "      <td>0.0</td>\n",
       "    </tr>\n",
       "    <tr>\n",
       "      <th>75%</th>\n",
       "      <td>11.2</td>\n",
       "      <td>0.0</td>\n",
       "      <td>15.0</td>\n",
       "      <td>26.0</td>\n",
       "      <td>44.0</td>\n",
       "      <td>1.0</td>\n",
       "      <td>1.0</td>\n",
       "      <td>1.0</td>\n",
       "      <td>0.0</td>\n",
       "      <td>0.0</td>\n",
       "    </tr>\n",
       "    <tr>\n",
       "      <th>max</th>\n",
       "      <td>44.5</td>\n",
       "      <td>1.0</td>\n",
       "      <td>18.0</td>\n",
       "      <td>55.0</td>\n",
       "      <td>64.0</td>\n",
       "      <td>1.0</td>\n",
       "      <td>1.0</td>\n",
       "      <td>1.0</td>\n",
       "      <td>1.0</td>\n",
       "      <td>1.0</td>\n",
       "    </tr>\n",
       "  </tbody>\n",
       "</table>\n",
       "</div>"
      ],
      "text/plain": [
       "       wage_per_hour  union  education_yrs  experience_yrs    age  female  \\\n",
       "count          534.0  534.0          534.0           534.0  534.0   534.0   \n",
       "mean             9.0    0.2           13.0            17.8   36.8     0.5   \n",
       "std              5.1    0.4            2.6            12.4   11.7     0.5   \n",
       "min              1.0    0.0            2.0             0.0   18.0     0.0   \n",
       "25%              5.2    0.0           12.0             8.0   28.0     0.0   \n",
       "50%              7.8    0.0           12.0            15.0   35.0     0.0   \n",
       "75%             11.2    0.0           15.0            26.0   44.0     1.0   \n",
       "max             44.5    1.0           18.0            55.0   64.0     1.0   \n",
       "\n",
       "        marr  south  manufacturing  construction  \n",
       "count  534.0  534.0          534.0         534.0  \n",
       "mean     0.7    0.3            0.2           0.0  \n",
       "std      0.5    0.5            0.4           0.2  \n",
       "min      0.0    0.0            0.0           0.0  \n",
       "25%      0.0    0.0            0.0           0.0  \n",
       "50%      1.0    0.0            0.0           0.0  \n",
       "75%      1.0    1.0            0.0           0.0  \n",
       "max      1.0    1.0            1.0           1.0  "
      ]
     },
     "execution_count": 25,
     "metadata": {},
     "output_type": "execute_result"
    }
   ],
   "source": [
    "data.describe().round(1)"
   ]
  },
  {
   "cell_type": "code",
   "execution_count": 26,
   "metadata": {},
   "outputs": [
    {
     "name": "stdout",
     "output_type": "stream",
     "text": [
      "<class 'pandas.core.frame.DataFrame'>\n",
      "RangeIndex: 534 entries, 0 to 533\n",
      "Data columns (total 10 columns):\n",
      " #   Column          Non-Null Count  Dtype  \n",
      "---  ------          --------------  -----  \n",
      " 0   wage_per_hour   534 non-null    float64\n",
      " 1   union           534 non-null    int64  \n",
      " 2   education_yrs   534 non-null    int64  \n",
      " 3   experience_yrs  534 non-null    int64  \n",
      " 4   age             534 non-null    int64  \n",
      " 5   female          534 non-null    int64  \n",
      " 6   marr            534 non-null    int64  \n",
      " 7   south           534 non-null    int64  \n",
      " 8   manufacturing   534 non-null    int64  \n",
      " 9   construction    534 non-null    int64  \n",
      "dtypes: float64(1), int64(9)\n",
      "memory usage: 41.8 KB\n"
     ]
    }
   ],
   "source": [
    "data.info()"
   ]
  },
  {
   "cell_type": "markdown",
   "metadata": {},
   "source": [
    "### Subsection 7.2: Specifying our model\n",
    "\n",
    "Now we'll get to work with our first model in Keras, and will immediately be able to run more complex neural network models on larger datasets.\n",
    "\n",
    "To start, we'll take the skeleton of a neural network and add a hidden layer and an output layer. We'll then fit that model and see Keras do the optimization so our model continually gets better.\n",
    "\n",
    "As a start, we'll predict workers wages based on characteristics like their industry, education and level of experience. For convenience, everything in `data` except for the target has been converted to a NumPy matrix called `predictors`. The target, `wage_per_hour`, is assigned to a NumPy matrix called `target`."
   ]
  },
  {
   "cell_type": "code",
   "execution_count": 27,
   "metadata": {},
   "outputs": [
    {
     "name": "stdout",
     "output_type": "stream",
     "text": [
      "WARNING:tensorflow:From C:\\Users\\YBant\\Anaconda3\\lib\\site-packages\\tensorflow\\python\\framework\\op_def_library.py:263: colocate_with (from tensorflow.python.framework.ops) is deprecated and will be removed in a future version.\n",
      "Instructions for updating:\n",
      "Colocations handled automatically by placer.\n"
     ]
    }
   ],
   "source": [
    "predictors: ndarray = data.drop('wage_per_hour', axis=1).to_numpy()\n",
    "target: ndarray = data.wage_per_hour.to_numpy()\n",
    "    \n",
    "n_cols: int = predictors.shape[1]\n",
    "\n",
    "model = Sequential()\n",
    "\n",
    "# Add the first layer\n",
    "model.add(Dense(50, activation='relu', input_shape=(n_cols,)))\n",
    "\n",
    "# Add the second layer\n",
    "model.add(Dense(32, activation='relu'))\n",
    "\n",
    "# Add the output layer\n",
    "model.add(Dense(1))"
   ]
  },
  {
   "cell_type": "markdown",
   "metadata": {},
   "source": [
    "### Subsection 7.3: Compiling and fitting our model\n",
    "\n",
    "Now that we've specified the model, the next step is to compile it, which sets up the network for optimization. For instance, creating an internal function to do back-propagation efficiently.\n",
    "\n",
    "The compile method has 2 important arguments for us to choose:\n",
    "1. What optimizer to use (which controls the learning rate)?\n",
    "    * In practice, the right choice of learning rate can make a huge difference for how quickly our model finds good weights, and even how good a set of weights it can find.\n",
    "    * There are a few algorithms that automatically tune the learning rate. Even many experts in the field don't know all the details of all the optimization algorithms. Therefore, the pragmatic approach is to choose a versatile algorithm and use that for most problems. In that sense, \"Adam\" is an excellent choice as out go-to optimizer. \"Adam\" adjusts the learning rate as it does gradient descent to ensure reasonable values throughout the weight optimization process.\n",
    "1. What loss function to use?\n",
    "    * `'mean_squared_error'` is the most common choice for regression problems. However, when we use keras for classification, we will use a new default metric.\n",
    "    \n",
    "You can read more about the Adam optimizer as well as other keras optimizers [here](https://keras.io/api/optimizers/#adam), and if you are really curious to learn more, you can read the [original paper](https://arxiv.org/abs/1412.6980v8) that introduced the Adam optimizer."
   ]
  },
  {
   "cell_type": "code",
   "execution_count": 28,
   "metadata": {},
   "outputs": [
    {
     "name": "stdout",
     "output_type": "stream",
     "text": [
      "Loss function: 'mean_squared_error'\n"
     ]
    }
   ],
   "source": [
    "model.compile(optimizer=\"adam\", loss=\"mean_squared_error\")\n",
    "print(f'Loss function: {model.loss!r}')"
   ]
  },
  {
   "cell_type": "markdown",
   "metadata": {},
   "source": [
    "After we have compiled our model, we can fit it. That is, applying back-propagation and gradient descent with our data to update the weights.\n",
    "\n",
    "The fit step looks similar to the scikit-learn's one, though it has more options which we will explore soon.\n",
    "\n",
    "Even with the \"Adam\" optimizer, wich is pretty smart, it can improve our optimization process if we scale all the data such that each feature is, on average, about similar sized values. One common approach is to subtract each feature by that feature's mean, and divide it by it's standard deviation. This process is called normalization: $$ z = \\frac{x -\\mu}{\\sigma} $$"
   ]
  },
  {
   "cell_type": "code",
   "execution_count": 29,
   "metadata": {},
   "outputs": [
    {
     "name": "stdout",
     "output_type": "stream",
     "text": [
      "WARNING:tensorflow:From C:\\Users\\YBant\\Anaconda3\\lib\\site-packages\\tensorflow\\python\\ops\\math_ops.py:3066: to_int32 (from tensorflow.python.ops.math_ops) is deprecated and will be removed in a future version.\n",
      "Instructions for updating:\n",
      "Use tf.cast instead.\n",
      "Epoch 1/1\n",
      "534/534 [==============================] - 0s 533us/step - loss: 254.6590\n"
     ]
    },
    {
     "data": {
      "text/plain": [
       "<keras.callbacks.History at 0x1e22fbf9a90>"
      ]
     },
     "execution_count": 29,
     "metadata": {},
     "output_type": "execute_result"
    }
   ],
   "source": [
    "model.fit(predictors, target)"
   ]
  },
  {
   "cell_type": "markdown",
   "metadata": {},
   "source": [
    "## Section 8. Classification models\n",
    "\n",
    "For classification, we do a couple of things differently.\n",
    "\n",
    "The biggest changes are:\n",
    "1. Set the loss function as `'categorical_crossentropy'` instead of `'mean_squared_error'`. This isn't the only possible loss function for classification problems, but it is by far the most common. For a **categorical crossentropy loss function**, a **lower score is better**. But it is still hard to interpret. Therefore, we can add `metrics = ['accuracy']` to the compile sten for easy-to-understand diagnostics.\n",
    "1. Modify the last layer such that is has a separate note for each potential outcome. We also change the activation function to `'softmax'`. The softmax activation function ensures the predictions sum to 1 such that they can be interpreted like probabilities.\n",
    "\n",
    "Now we will start modeling with a new dataset for a classification problem. This data includes information about passengers on the Titanic. We will use predictors such as `age`, `fare` and where each passenger embarked from to predict who will survive. This data is from a [kaggle tutorial](https://www.kaggle.com/c/titanic). Look [here](https://www.kaggle.com/c/titanic/data) for descriptions of the features."
   ]
  },
  {
   "cell_type": "code",
   "execution_count": 30,
   "metadata": {},
   "outputs": [
    {
     "data": {
      "text/html": [
       "<div>\n",
       "<style scoped>\n",
       "    .dataframe tbody tr th:only-of-type {\n",
       "        vertical-align: middle;\n",
       "    }\n",
       "\n",
       "    .dataframe tbody tr th {\n",
       "        vertical-align: top;\n",
       "    }\n",
       "\n",
       "    .dataframe thead th {\n",
       "        text-align: right;\n",
       "    }\n",
       "</style>\n",
       "<table border=\"1\" class=\"dataframe\">\n",
       "  <thead>\n",
       "    <tr style=\"text-align: right;\">\n",
       "      <th></th>\n",
       "      <th>survived</th>\n",
       "      <th>pclass</th>\n",
       "      <th>age</th>\n",
       "      <th>sibsp</th>\n",
       "      <th>parch</th>\n",
       "      <th>fare</th>\n",
       "      <th>male</th>\n",
       "      <th>age_was_missing</th>\n",
       "      <th>embarked_from_cherbourg</th>\n",
       "      <th>embarked_from_queenstown</th>\n",
       "      <th>embarked_from_southampton</th>\n",
       "    </tr>\n",
       "  </thead>\n",
       "  <tbody>\n",
       "    <tr>\n",
       "      <th>0</th>\n",
       "      <td>0</td>\n",
       "      <td>3</td>\n",
       "      <td>22.0</td>\n",
       "      <td>1</td>\n",
       "      <td>0</td>\n",
       "      <td>7.2500</td>\n",
       "      <td>1</td>\n",
       "      <td>False</td>\n",
       "      <td>0</td>\n",
       "      <td>0</td>\n",
       "      <td>1</td>\n",
       "    </tr>\n",
       "    <tr>\n",
       "      <th>1</th>\n",
       "      <td>1</td>\n",
       "      <td>1</td>\n",
       "      <td>38.0</td>\n",
       "      <td>1</td>\n",
       "      <td>0</td>\n",
       "      <td>71.2833</td>\n",
       "      <td>0</td>\n",
       "      <td>False</td>\n",
       "      <td>1</td>\n",
       "      <td>0</td>\n",
       "      <td>0</td>\n",
       "    </tr>\n",
       "    <tr>\n",
       "      <th>2</th>\n",
       "      <td>1</td>\n",
       "      <td>3</td>\n",
       "      <td>26.0</td>\n",
       "      <td>0</td>\n",
       "      <td>0</td>\n",
       "      <td>7.9250</td>\n",
       "      <td>0</td>\n",
       "      <td>False</td>\n",
       "      <td>0</td>\n",
       "      <td>0</td>\n",
       "      <td>1</td>\n",
       "    </tr>\n",
       "    <tr>\n",
       "      <th>3</th>\n",
       "      <td>1</td>\n",
       "      <td>1</td>\n",
       "      <td>35.0</td>\n",
       "      <td>1</td>\n",
       "      <td>0</td>\n",
       "      <td>53.1000</td>\n",
       "      <td>0</td>\n",
       "      <td>False</td>\n",
       "      <td>0</td>\n",
       "      <td>0</td>\n",
       "      <td>1</td>\n",
       "    </tr>\n",
       "    <tr>\n",
       "      <th>4</th>\n",
       "      <td>0</td>\n",
       "      <td>3</td>\n",
       "      <td>35.0</td>\n",
       "      <td>0</td>\n",
       "      <td>0</td>\n",
       "      <td>8.0500</td>\n",
       "      <td>1</td>\n",
       "      <td>False</td>\n",
       "      <td>0</td>\n",
       "      <td>0</td>\n",
       "      <td>1</td>\n",
       "    </tr>\n",
       "  </tbody>\n",
       "</table>\n",
       "</div>"
      ],
      "text/plain": [
       "   survived  pclass   age  sibsp  parch     fare  male  age_was_missing  \\\n",
       "0         0       3  22.0      1      0   7.2500     1            False   \n",
       "1         1       1  38.0      1      0  71.2833     0            False   \n",
       "2         1       3  26.0      0      0   7.9250     0            False   \n",
       "3         1       1  35.0      1      0  53.1000     0            False   \n",
       "4         0       3  35.0      0      0   8.0500     1            False   \n",
       "\n",
       "   embarked_from_cherbourg  embarked_from_queenstown  \\\n",
       "0                        0                         0   \n",
       "1                        1                         0   \n",
       "2                        0                         0   \n",
       "3                        0                         0   \n",
       "4                        0                         0   \n",
       "\n",
       "   embarked_from_southampton  \n",
       "0                          1  \n",
       "1                          0  \n",
       "2                          1  \n",
       "3                          1  \n",
       "4                          1  "
      ]
     },
     "execution_count": 30,
     "metadata": {},
     "output_type": "execute_result"
    }
   ],
   "source": [
    "titanic_filepath: str = normabspath(basedir, 'data/titanic_all_numeric.csv')\n",
    "titanic: DataFrame = pd.read_csv(titanic_filepath)\n",
    "titanic.head()"
   ]
  },
  {
   "cell_type": "code",
   "execution_count": 31,
   "metadata": {},
   "outputs": [
    {
     "name": "stdout",
     "output_type": "stream",
     "text": [
      "<class 'pandas.core.frame.DataFrame'>\n",
      "RangeIndex: 891 entries, 0 to 890\n",
      "Data columns (total 11 columns):\n",
      " #   Column                     Non-Null Count  Dtype  \n",
      "---  ------                     --------------  -----  \n",
      " 0   survived                   891 non-null    int64  \n",
      " 1   pclass                     891 non-null    int64  \n",
      " 2   age                        891 non-null    float64\n",
      " 3   sibsp                      891 non-null    int64  \n",
      " 4   parch                      891 non-null    int64  \n",
      " 5   fare                       891 non-null    float64\n",
      " 6   male                       891 non-null    int64  \n",
      " 7   age_was_missing            891 non-null    bool   \n",
      " 8   embarked_from_cherbourg    891 non-null    int64  \n",
      " 9   embarked_from_queenstown   891 non-null    int64  \n",
      " 10  embarked_from_southampton  891 non-null    int64  \n",
      "dtypes: bool(1), float64(2), int64(8)\n",
      "memory usage: 70.6 KB\n"
     ]
    }
   ],
   "source": [
    "titanic.info()"
   ]
  },
  {
   "cell_type": "markdown",
   "metadata": {},
   "source": [
    "It's smart to review the maximum and minimum values of each variable to ensure the data isn't misformatted or corrupted. What was the maximum age of passengers on the Titanic? "
   ]
  },
  {
   "cell_type": "code",
   "execution_count": 32,
   "metadata": {},
   "outputs": [
    {
     "data": {
      "text/html": [
       "<div>\n",
       "<style scoped>\n",
       "    .dataframe tbody tr th:only-of-type {\n",
       "        vertical-align: middle;\n",
       "    }\n",
       "\n",
       "    .dataframe tbody tr th {\n",
       "        vertical-align: top;\n",
       "    }\n",
       "\n",
       "    .dataframe thead th {\n",
       "        text-align: right;\n",
       "    }\n",
       "</style>\n",
       "<table border=\"1\" class=\"dataframe\">\n",
       "  <thead>\n",
       "    <tr style=\"text-align: right;\">\n",
       "      <th></th>\n",
       "      <th>survived</th>\n",
       "      <th>pclass</th>\n",
       "      <th>age</th>\n",
       "      <th>sibsp</th>\n",
       "      <th>parch</th>\n",
       "      <th>fare</th>\n",
       "      <th>male</th>\n",
       "      <th>embarked_from_cherbourg</th>\n",
       "      <th>embarked_from_queenstown</th>\n",
       "      <th>embarked_from_southampton</th>\n",
       "    </tr>\n",
       "  </thead>\n",
       "  <tbody>\n",
       "    <tr>\n",
       "      <th>count</th>\n",
       "      <td>891.0</td>\n",
       "      <td>891.0</td>\n",
       "      <td>891.0</td>\n",
       "      <td>891.0</td>\n",
       "      <td>891.0</td>\n",
       "      <td>891.0</td>\n",
       "      <td>891.0</td>\n",
       "      <td>891.0</td>\n",
       "      <td>891.0</td>\n",
       "      <td>891.0</td>\n",
       "    </tr>\n",
       "    <tr>\n",
       "      <th>mean</th>\n",
       "      <td>0.4</td>\n",
       "      <td>2.3</td>\n",
       "      <td>29.7</td>\n",
       "      <td>0.5</td>\n",
       "      <td>0.4</td>\n",
       "      <td>32.2</td>\n",
       "      <td>0.6</td>\n",
       "      <td>0.2</td>\n",
       "      <td>0.1</td>\n",
       "      <td>0.7</td>\n",
       "    </tr>\n",
       "    <tr>\n",
       "      <th>std</th>\n",
       "      <td>0.5</td>\n",
       "      <td>0.8</td>\n",
       "      <td>13.0</td>\n",
       "      <td>1.1</td>\n",
       "      <td>0.8</td>\n",
       "      <td>49.7</td>\n",
       "      <td>0.5</td>\n",
       "      <td>0.4</td>\n",
       "      <td>0.3</td>\n",
       "      <td>0.4</td>\n",
       "    </tr>\n",
       "    <tr>\n",
       "      <th>min</th>\n",
       "      <td>0.0</td>\n",
       "      <td>1.0</td>\n",
       "      <td>0.4</td>\n",
       "      <td>0.0</td>\n",
       "      <td>0.0</td>\n",
       "      <td>0.0</td>\n",
       "      <td>0.0</td>\n",
       "      <td>0.0</td>\n",
       "      <td>0.0</td>\n",
       "      <td>0.0</td>\n",
       "    </tr>\n",
       "    <tr>\n",
       "      <th>25%</th>\n",
       "      <td>0.0</td>\n",
       "      <td>2.0</td>\n",
       "      <td>22.0</td>\n",
       "      <td>0.0</td>\n",
       "      <td>0.0</td>\n",
       "      <td>7.9</td>\n",
       "      <td>0.0</td>\n",
       "      <td>0.0</td>\n",
       "      <td>0.0</td>\n",
       "      <td>0.0</td>\n",
       "    </tr>\n",
       "    <tr>\n",
       "      <th>50%</th>\n",
       "      <td>0.0</td>\n",
       "      <td>3.0</td>\n",
       "      <td>29.7</td>\n",
       "      <td>0.0</td>\n",
       "      <td>0.0</td>\n",
       "      <td>14.5</td>\n",
       "      <td>1.0</td>\n",
       "      <td>0.0</td>\n",
       "      <td>0.0</td>\n",
       "      <td>1.0</td>\n",
       "    </tr>\n",
       "    <tr>\n",
       "      <th>75%</th>\n",
       "      <td>1.0</td>\n",
       "      <td>3.0</td>\n",
       "      <td>35.0</td>\n",
       "      <td>1.0</td>\n",
       "      <td>0.0</td>\n",
       "      <td>31.0</td>\n",
       "      <td>1.0</td>\n",
       "      <td>0.0</td>\n",
       "      <td>0.0</td>\n",
       "      <td>1.0</td>\n",
       "    </tr>\n",
       "    <tr>\n",
       "      <th>max</th>\n",
       "      <td>1.0</td>\n",
       "      <td>3.0</td>\n",
       "      <td>80.0</td>\n",
       "      <td>8.0</td>\n",
       "      <td>6.0</td>\n",
       "      <td>512.3</td>\n",
       "      <td>1.0</td>\n",
       "      <td>1.0</td>\n",
       "      <td>1.0</td>\n",
       "      <td>1.0</td>\n",
       "    </tr>\n",
       "  </tbody>\n",
       "</table>\n",
       "</div>"
      ],
      "text/plain": [
       "       survived  pclass    age  sibsp  parch   fare   male  \\\n",
       "count     891.0   891.0  891.0  891.0  891.0  891.0  891.0   \n",
       "mean        0.4     2.3   29.7    0.5    0.4   32.2    0.6   \n",
       "std         0.5     0.8   13.0    1.1    0.8   49.7    0.5   \n",
       "min         0.0     1.0    0.4    0.0    0.0    0.0    0.0   \n",
       "25%         0.0     2.0   22.0    0.0    0.0    7.9    0.0   \n",
       "50%         0.0     3.0   29.7    0.0    0.0   14.5    1.0   \n",
       "75%         1.0     3.0   35.0    1.0    0.0   31.0    1.0   \n",
       "max         1.0     3.0   80.0    8.0    6.0  512.3    1.0   \n",
       "\n",
       "       embarked_from_cherbourg  embarked_from_queenstown  \\\n",
       "count                    891.0                     891.0   \n",
       "mean                       0.2                       0.1   \n",
       "std                        0.4                       0.3   \n",
       "min                        0.0                       0.0   \n",
       "25%                        0.0                       0.0   \n",
       "50%                        0.0                       0.0   \n",
       "75%                        0.0                       0.0   \n",
       "max                        1.0                       1.0   \n",
       "\n",
       "       embarked_from_southampton  \n",
       "count                      891.0  \n",
       "mean                         0.7  \n",
       "std                          0.4  \n",
       "min                          0.0  \n",
       "25%                          0.0  \n",
       "50%                          1.0  \n",
       "75%                          1.0  \n",
       "max                          1.0  "
      ]
     },
     "execution_count": 32,
     "metadata": {},
     "output_type": "execute_result"
    }
   ],
   "source": [
    "titanic.describe().round(1)"
   ]
  },
  {
   "cell_type": "code",
   "execution_count": 33,
   "metadata": {},
   "outputs": [
    {
     "name": "stdout",
     "output_type": "stream",
     "text": [
      "Epoch 1/1\n",
      "891/891 [==============================] - 0s 155us/step - loss: 2.2323 - acc: 0.5915\n"
     ]
    },
    {
     "data": {
      "text/plain": [
       "<keras.callbacks.History at 0x1e22eb86198>"
      ]
     },
     "execution_count": 33,
     "metadata": {},
     "output_type": "execute_result"
    }
   ],
   "source": [
    "target: ndarray = to_categorical(titanic.survived)\n",
    "predictors: ndarray = titanic.drop('survived', axis=1).to_numpy()\n",
    "n_cols: int = predictors.shape[1]\n",
    "    \n",
    "# Set up the model\n",
    "model = Sequential()\n",
    "\n",
    "# Add the first layer\n",
    "model.add(Dense(32, activation='relu', input_shape=(n_cols, )))\n",
    "\n",
    "# Add the output layer\n",
    "model.add(Dense(2, activation='softmax'))\n",
    "\n",
    "# Compile the model\n",
    "model.compile(optimizer='sgd', loss='categorical_crossentropy', metrics=['accuracy'])\n",
    "\n",
    "# Fit the model\n",
    "model.fit(predictors, target)"
   ]
  },
  {
   "cell_type": "markdown",
   "metadata": {},
   "source": [
    "This simple model is generating an accuracy greater than 60%!\n",
    "\n",
    "## Section 9. Using models\n",
    "\n",
    "The usual workflow associated with deep learning models is:\n",
    "1. Save the model after you have trained it\n",
    "1. Reload the model\n",
    "1. Make prediction with the model"
   ]
  },
  {
   "cell_type": "code",
   "execution_count": 34,
   "metadata": {},
   "outputs": [
    {
     "name": "stdout",
     "output_type": "stream",
     "text": [
      "_________________________________________________________________\n",
      "Layer (type)                 Output Shape              Param #   \n",
      "=================================================================\n",
      "dense_4 (Dense)              (None, 32)                352       \n",
      "_________________________________________________________________\n",
      "dense_5 (Dense)              (None, 2)                 66        \n",
      "=================================================================\n",
      "Total params: 418\n",
      "Trainable params: 418\n",
      "Non-trainable params: 0\n",
      "_________________________________________________________________\n"
     ]
    }
   ],
   "source": [
    "model_filepath: str = normabspath(basedir, 'models/classification_model.h5')\n",
    "    \n",
    "# Save the model\n",
    "model.save(model_filepath)\n",
    "\n",
    "# Load the model back into memory\n",
    "my_model: Sequential = load_model(model_filepath)\n",
    "\n",
    "# Make predictions (they come in the same format as the prediction target, here 2 columns)\n",
    "predictions: ndarray = my_model.predict(predictors)\n",
    "    \n",
    "# Individuals who would survive on the Titanic\n",
    "probability_true = predictions[:, 1]\n",
    "\n",
    "# Summary of the model architecture\n",
    "my_model.summary()"
   ]
  },
  {
   "cell_type": "markdown",
   "metadata": {},
   "source": [
    "## Section 10. Understanding model optimization"
   ]
  },
  {
   "cell_type": "markdown",
   "metadata": {},
   "source": [
    "It's time to get our hands dirty with optimization. We'll now try optimizing a model at a very low learning rate, a very high learning rate, and a \"just right\" learning rate. We'll want to look at the output after running the code, remembering that a low value for the loss function is good.\n",
    "\n",
    "We will use the predictors and target from section 9."
   ]
  },
  {
   "cell_type": "code",
   "execution_count": 35,
   "metadata": {},
   "outputs": [],
   "source": [
    "def get_new_model(input_shape: Tuple[Union[None, int], Union[None, int]]) -> Sequential:\n",
    "    model = Sequential()\n",
    "    model.add(Dense(100, activation='relu', input_shape=input_shape))\n",
    "    model.add(Dense(100, activation='relu'))\n",
    "    model.add(Dense(2, activation='softmax'))\n",
    "    return model"
   ]
  },
  {
   "cell_type": "code",
   "execution_count": 36,
   "metadata": {},
   "outputs": [
    {
     "name": "stdout",
     "output_type": "stream",
     "text": [
      "\n",
      "\n",
      "Testing model with learning rate: 1e-06\n",
      "Epoch 1/1\n",
      "891/891 [==============================] - 0s 202us/step - loss: 3.4898\n",
      "\n",
      "\n",
      "Testing model with learning rate: 0.01\n",
      "Epoch 1/1\n",
      "891/891 [==============================] - 0s 214us/step - loss: 1.3810\n",
      "\n",
      "\n",
      "Testing model with learning rate: 1\n",
      "Epoch 1/1\n",
      "891/891 [==============================] - 0s 237us/step - loss: 5.9547\n"
     ]
    }
   ],
   "source": [
    "learning_rates_to_test: Tuple[int, int, int] = (.000001, .01, 1)\n",
    "\n",
    "for lr in learning_rates_to_test:\n",
    "    print(f\"\\n\\nTesting model with learning rate: {lr}\")\n",
    "    model = get_new_model(input_shape=(n_cols, ))\n",
    "    sgd = SGD(lr=lr)\n",
    "    model.compile(optimizer=sgd, loss='categorical_crossentropy')\n",
    "    model.fit(predictors, target)"
   ]
  },
  {
   "cell_type": "markdown",
   "metadata": {},
   "source": [
    "As we can see from above, the lowest value for the loss function (categorical crossentropy) is achieved by the middle learning rate 0.01. Worst case is achieved utilizing a learning rate equal to 1.\n",
    "\n",
    "## Section 11. Model Validation\n"
   ]
  },
  {
   "cell_type": "code",
   "execution_count": 37,
   "metadata": {},
   "outputs": [
    {
     "name": "stdout",
     "output_type": "stream",
     "text": [
      "Train on 623 samples, validate on 268 samples\n",
      "Epoch 1/1\n",
      "623/623 [==============================] - 0s 518us/step - loss: 1.0951 - acc: 0.6212 - val_loss: 0.5745 - val_acc: 0.7313\n"
     ]
    }
   ],
   "source": [
    "model = get_new_model(input_shape=(n_cols, ))\n",
    "model.compile(optimizer='adam', loss='categorical_crossentropy', metrics=['accuracy'])\n",
    "hist = model.fit(predictors, target, validation_split=.3)"
   ]
  },
  {
   "cell_type": "markdown",
   "metadata": {},
   "source": [
    "### Subsection 11.1 Early stopping: Optimizing the optimization\n",
    "\n",
    "Now that we know how to monitor our model performance throughout optimization, we can use early stopping to stop optimization when it isn't helping any more. Since the optimization stops automatically when it isn't helping, we can also set a high value for epochs in our call to `.fit()`."
   ]
  },
  {
   "cell_type": "code",
   "execution_count": 38,
   "metadata": {},
   "outputs": [
    {
     "name": "stdout",
     "output_type": "stream",
     "text": [
      "Train on 623 samples, validate on 268 samples\n",
      "Epoch 1/30\n",
      "623/623 [==============================] - 0s 545us/step - loss: 1.0562 - acc: 0.6132 - val_loss: 0.8758 - val_acc: 0.6306\n",
      "Epoch 2/30\n",
      "623/623 [==============================] - 0s 32us/step - loss: 0.7190 - acc: 0.6276 - val_loss: 0.5425 - val_acc: 0.7276\n",
      "Epoch 3/30\n",
      "623/623 [==============================] - 0s 35us/step - loss: 0.6526 - acc: 0.6613 - val_loss: 0.5126 - val_acc: 0.7239\n",
      "Epoch 4/30\n",
      "623/623 [==============================] - 0s 37us/step - loss: 0.6316 - acc: 0.6421 - val_loss: 0.5762 - val_acc: 0.7239\n",
      "Epoch 5/30\n",
      "623/623 [==============================] - 0s 40us/step - loss: 0.6489 - acc: 0.6806 - val_loss: 0.5106 - val_acc: 0.7351\n",
      "Epoch 6/30\n",
      "623/623 [==============================] - 0s 35us/step - loss: 0.5994 - acc: 0.6774 - val_loss: 0.4911 - val_acc: 0.7463\n",
      "Epoch 7/30\n",
      "623/623 [==============================] - 0s 34us/step - loss: 0.5730 - acc: 0.7095 - val_loss: 0.4955 - val_acc: 0.7500\n",
      "Epoch 8/30\n",
      "623/623 [==============================] - 0s 42us/step - loss: 0.6010 - acc: 0.7047 - val_loss: 0.4754 - val_acc: 0.7575\n",
      "Epoch 9/30\n",
      "623/623 [==============================] - 0s 50us/step - loss: 0.6271 - acc: 0.6998 - val_loss: 0.5413 - val_acc: 0.7687\n",
      "Epoch 10/30\n",
      "623/623 [==============================] - 0s 50us/step - loss: 0.6173 - acc: 0.6918 - val_loss: 0.5061 - val_acc: 0.7276\n"
     ]
    },
    {
     "data": {
      "text/plain": [
       "<keras.callbacks.History at 0x1e233501a90>"
      ]
     },
     "execution_count": 38,
     "metadata": {},
     "output_type": "execute_result"
    }
   ],
   "source": [
    "input_shape: Tuple[int] = (n_cols, )\n",
    "model = get_new_model(input_shape=input_shape)\n",
    "model.compile(optimizer='adam', loss='categorical_crossentropy', metrics=['accuracy'])\n",
    "\n",
    "# Define early_stopping_monitor\n",
    "early_stopping_monitor = EarlyStopping(patience=2)\n",
    "\n",
    "model.fit(predictors, target, epochs=30, validation_split=0.3, callbacks=[early_stopping_monitor])"
   ]
  },
  {
   "cell_type": "markdown",
   "metadata": {},
   "source": [
    "Because optimization will automatically stop when it is no longer helpful, it is okay to specify the maximum number of epochs as 30 rather than using the default of 10 that we've used so far.\n",
    "\n",
    "### Subsection 11.2: Experimenting with wider networks\n",
    "\n",
    "Now we know everything we need to begin experimenting with different models!\n",
    "\n",
    "Here, we will compare two models. `model_2` will be similar to `model_1`, except it will have 100 units in each hidden layer instead of 10."
   ]
  },
  {
   "cell_type": "code",
   "execution_count": 39,
   "metadata": {},
   "outputs": [],
   "source": [
    "def create_model(num_nodes: int,\n",
    "                 input_shape: Tuple[Union[None, int], Union[None, int]],\n",
    "                 num_layers: int = 2) -> Sequential:\n",
    "    '''Create a Sequential models.\n",
    "    '''\n",
    "    model = Sequential()\n",
    "    \n",
    "    if num_layers < 1:\n",
    "        raise ValueError(f'You have to provide 1 layer at least! You provided {num_layers} instead.')\n",
    "    elif num_layers == 1:\n",
    "        model.add(Dense(num_nodes, activation='relu', input_shape=input_shape))\n",
    "    elif num_layers > 1:\n",
    "        model.add(Dense(num_nodes, activation='relu', input_shape=input_shape))\n",
    "        for i in range(num_layers - 1):\n",
    "            model.add(Dense(num_nodes, activation='relu'))\n",
    "\n",
    "    # Add the output layer\n",
    "    model.add(Dense(2, activation='softmax'))\n",
    "\n",
    "    # Compile model\n",
    "    model.compile(optimizer='adam', loss='categorical_crossentropy', metrics=['accuracy'])\n",
    "    \n",
    "    return model"
   ]
  },
  {
   "cell_type": "code",
   "execution_count": 40,
   "metadata": {},
   "outputs": [],
   "source": [
    "model_1 = create_model(num_nodes=10, input_shape=input_shape)\n",
    "model_2 = create_model(num_nodes=100, input_shape=input_shape)"
   ]
  },
  {
   "cell_type": "code",
   "execution_count": 41,
   "metadata": {},
   "outputs": [
    {
     "data": {
      "image/png": "[encoded data removed]",
      "text/plain": [
       "<Figure size 432x288 with 1 Axes>"
      ]
     },
     "metadata": {
      "needs_background": "light"
     },
     "output_type": "display_data"
    }
   ],
   "source": [
    "# Fit model_1\n",
    "model_1_training = model_1.fit(predictors, target, epochs=15, validation_split=0.2, callbacks=[early_stopping_monitor], verbose=False)\n",
    "\n",
    "# Fit model_2\n",
    "model_2_training = model_2.fit(predictors, target, epochs=15, validation_split=0.2, callbacks=[early_stopping_monitor], verbose=False)\n",
    "\n",
    "# Create the plot\n",
    "plt.plot(model_1_training.history['val_loss'], 'r', model_2_training.history['val_loss'], 'b')\n",
    "plt.xlabel('Epochs')\n",
    "plt.ylabel('Validation score')\n",
    "plt.grid(True, c='k', ls=':')\n",
    "plt.show()"
   ]
  },
  {
   "cell_type": "markdown",
   "metadata": {},
   "source": [
    "The blue model has a lower loss value, so it is the better model.\n",
    "\n",
    "We have seen how to experiment with wider networks. Below, we'll try a deeper network (i.e., more hidden layers).\n",
    "\n",
    "Once again, we will create a baseline model called `model_a` as a starting point. It has 1 hidden layer, with 50 units. We will create a similar network with 3 hidden layers (still keeping 50 units in each layer)."
   ]
  },
  {
   "cell_type": "code",
   "execution_count": 42,
   "metadata": {},
   "outputs": [
    {
     "data": {
      "image/png": "[encoded data removed]",
      "text/plain": [
       "<Figure size 432x288 with 1 Axes>"
      ]
     },
     "metadata": {
      "needs_background": "light"
     },
     "output_type": "display_data"
    }
   ],
   "source": [
    "model_a: Sequential = create_model(num_nodes=50, input_shape=input_shape, num_layers=1)\n",
    "model_b: Sequential = create_model(num_nodes=50, input_shape=input_shape, num_layers=3)\n",
    "\n",
    "model_a.compile(optimizer='adam', loss='categorical_crossentropy', metrics=['accuracy'])\n",
    "model_b.compile(optimizer='adam', loss='categorical_crossentropy', metrics=['accuracy'])\n",
    "\n",
    "model_a_training = model_a.fit(predictors, target, epochs=20, validation_split=0.4, \n",
    "                               callbacks=[early_stopping_monitor], verbose=False)\n",
    "model_b_training = model_b.fit(predictors, target, epochs=20, validation_split=0.4, \n",
    "                               callbacks=[early_stopping_monitor], verbose=False)\n",
    "\n",
    "plt.plot(model_a_training.history['val_loss'], 'r', model_b_training.history['val_loss'], 'b')\n",
    "plt.xlabel('Epochs')\n",
    "plt.ylabel('Validation score')\n",
    "plt.grid(True, c='k', ls=':')\n",
    "plt.show()"
   ]
  }
 ],
 "metadata": {
  "kernelspec": {
   "display_name": "keras243py37",
   "language": "python",
   "name": "keras243py37"
  },
  "language_info": {
   "codemirror_mode": {
    "name": "ipython",
    "version": 3
   },
   "file_extension": ".py",
   "mimetype": "text/x-python",
   "name": "python",
   "nbconvert_exporter": "python",
   "pygments_lexer": "ipython3",
   "version": "3.7.3"
  }
 },
 "nbformat": 4,
 "nbformat_minor": 4
}
